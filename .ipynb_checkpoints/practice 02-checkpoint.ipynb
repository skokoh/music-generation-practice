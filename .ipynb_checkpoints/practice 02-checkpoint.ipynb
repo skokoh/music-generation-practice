{
 "cells": [
  {
   "cell_type": "markdown",
   "metadata": {},
   "source": [
    "### MIDI file to matrix"
   ]
  },
  {
   "cell_type": "markdown",
   "metadata": {},
   "source": [
    "Eunjeong Stella Ko (eko@ucsd.edu)"
   ]
  },
  {
   "cell_type": "markdown",
   "metadata": {},
   "source": [
    "This is how I get a MIDI matrix from a file with 8th note divisions. The resulting matrix is of shape (event, num_notes). After this data processing, I trained and generated new sequence of midi file."
   ]
  },
  {
   "cell_type": "code",
   "execution_count": 134,
   "metadata": {
    "collapsed": true
   },
   "outputs": [],
   "source": [
    "# for piano roll processing\n",
    "# Unroll:\n",
    "# Python package for Piano roll transcription to sheet music\n",
    "# https://github.com/Zulko/unroll\n",
    "# Music21 Documentation:\n",
    "# http://web.mit.edu/music21/doc/index.html"
   ]
  },
  {
   "cell_type": "code",
   "execution_count": 135,
   "metadata": {
    "collapsed": true
   },
   "outputs": [],
   "source": [
    "# for dataSet\n",
    "from unroll.KeyStrikes import KeyStrikes\n",
    "import music21\n",
    "import numpy as np\n",
    "import os.path\n",
    "import matplotlib.pyplot as plt"
   ]
  },
  {
   "cell_type": "code",
   "execution_count": 136,
   "metadata": {
    "collapsed": false
   },
   "outputs": [],
   "source": [
    "# for indexing \n",
    "# tick_step = mf.ticksPerQuarterNote / 2    \n",
    "# tick_step (default: 512, changed after reading midi file)\n",
    "tick_step = 512\n",
    "samples_num = 0                                # samples number, will initialized\n",
    "seq_length = 0                                 # sequence length, will initialized\n",
    "# hidden size\n",
    "note_dim = 128                            # midi file format : total 128\n",
    "data_dim = note_dim + 1                   # EOS\n",
    "hidden_size = data_dim                    # just naming, data dimention == hidden size"
   ]
  },
  {
   "cell_type": "code",
   "execution_count": 137,
   "metadata": {
    "collapsed": true
   },
   "outputs": [],
   "source": [
    "target_str = \"\"                     \n",
    "TARGET_FOLDER = \"test\"               # training folder name (right now, I just put 1 midi file for testing)\n",
    "path_train = \"./data_for_train/\" + TARGET_FOLDER"
   ]
  },
  {
   "cell_type": "code",
   "execution_count": 138,
   "metadata": {
    "collapsed": false
   },
   "outputs": [
    {
     "name": "stdout",
     "output_type": "stream",
     "text": [
      "Return 1 file name list.\n",
      "1 ['waltzes_simple_chords_1.mid']\n"
     ]
    }
   ],
   "source": [
    "# target_str\n",
    "samples_list = os.listdir(path_train) \n",
    "        \n",
    "if target_str != \"\":\n",
    "    temp_list_train_files = []\n",
    "    for item in samples_list:\n",
    "            if target_str in item:\n",
    "                temp_list_train_files.append(item)\n",
    "                samples_list = temp_list_train_files\n",
    "\n",
    "# sample list sorting\n",
    "samples_list.sort()\n",
    "# sample number\n",
    "samples_num = len(samples_list)\n",
    "\n",
    "print \"Return {0} file name list.\".format(len(samples_list))\n",
    "print len(samples_list), samples_list"
   ]
  },
  {
   "cell_type": "code",
   "execution_count": 144,
   "metadata": {
    "collapsed": false
   },
   "outputs": [
    {
     "name": "stdout",
     "output_type": "stream",
     "text": [
      "waltzes_simple_chords_1.mid\n"
     ]
    }
   ],
   "source": [
    "# return: seq_length \n",
    "# for setting up numpy array size, checking the maximum length in training data\n",
    "\n",
    "whatislongestfile = \"\"\n",
    "#print \"\\n...... get info : longest sequence length ......\"\n",
    "max_ks_time = 0\n",
    "mfticksperquarternote = 0\n",
    "\n",
    "for filename in samples_list:\n",
    "    print filename"
   ]
  },
  {
   "cell_type": "code",
   "execution_count": 146,
   "metadata": {
    "collapsed": false
   },
   "outputs": [
    {
     "name": "stdout",
     "output_type": "stream",
     "text": [
      "waltzes_simple_chords_1.mid\n",
      "\n",
      "\tLongest File name : waltzes_simple_chords_1.mid, sequence length : 391\n",
      "\n",
      "\n",
      "391\n"
     ]
    }
   ],
   "source": [
    "# read midi file\n",
    "mf = music21.midi.MidiFile()\n",
    "path_midifile = path_train + '/' + filename\n",
    "mf.open(path_midifile)\n",
    "mf.read()\n",
    "mf.close()\n",
    "\n",
    "# midi -> music21 stream -> midi\n",
    "# mf.ticksperQuarterNote == 1024\n",
    "s = music21.midi.translate.midiFileToStream(mf)\n",
    "mf = music21.midi.translate.streamToMidiFile(s)\n",
    "\n",
    "# note information\n",
    "#\n",
    "#   <MidiTrack 1 -- 1092 events\n",
    "#   <MidiEvent DeltaTime, t=0, track=1, channel=1>\n",
    "#   .....\n",
    "#   <MidiEvent TIME_SIGNATURE, t=0, track=1, channel=1, data='\\x04\\x02\\x18\\x08'>\n",
    "#   <MidiEvent DeltaTime, t=0, track=1, channel=1>\n",
    "#   <MidiEvent NOTE_ON, t=0, track=1, channel=1, pitch=76, velocity=105>\n",
    "#   <MidiEvent DeltaTime, t=512, track=1, channel=1>\n",
    "#   <MidiEvent NOTE_OFF, t=0, track=1, channel=1, pitch=76, velocity=0>\n",
    "#\n",
    "result = []\n",
    "for i in range(len(mf.tracks)):\n",
    "    t = 0\n",
    "    for e in mf.tracks[i].events:\n",
    "        if e.isDeltaTime() and e.time is not None:\n",
    "            t += e.time\n",
    "        elif e.isNoteOn() and e.pitch is not None and e.velocity != 0:\n",
    "            result.append({'time': t, 'note': e.pitch})\n",
    "\n",
    "# unroll.KeyStrikes\n",
    "ks = KeyStrikes(result)\n",
    "# checking duration\n",
    "ks = ks.quantized(mf.ticksPerQuarterNote)\n",
    "mfticksperquarternote = mf.ticksPerQuarterNote\n",
    "\n",
    "# checking maximum length for setting seq_length\n",
    "now_ks_time = ks.keystrikes[-1]['time'] + ks.keystrikes[-1]['duration'] * mfticksperquarternote\n",
    "if max_ks_time < now_ks_time:\n",
    "    max_ks_time = now_ks_time\n",
    "    whatislongestfile = filename\n",
    "        \n",
    "print whatislongestfile\n",
    "\n",
    "tick_step = mf.ticksPerQuarterNote / 2              # 1/8\n",
    "longest_seq_length = max_ks_time / tick_step + 1    # EOS\n",
    "\n",
    "seq_length = longest_seq_length\n",
    "\n",
    "print \"\\n\\tLongest File name : {0}, sequence length : {1}\\n\\n\".format(whatislongestfile, longest_seq_length)\n",
    "print longest_seq_length\n"
   ]
  },
  {
   "cell_type": "code",
   "execution_count": 147,
   "metadata": {
    "collapsed": false
   },
   "outputs": [
    {
     "name": "stdout",
     "output_type": "stream",
     "text": [
      "1\n",
      "['waltzes_simple_chords_1.mid']\n",
      "391\n"
     ]
    }
   ],
   "source": [
    "print samples_num\n",
    "print samples_list\n",
    "print seq_length\n",
    "\n",
    "# data_set initialization\n",
    "X_train = np.zeros((samples_num, seq_length, hidden_size), dtype=int)\n",
    "Y_train = np.copy(X_train)\n"
   ]
  },
  {
   "cell_type": "code",
   "execution_count": 175,
   "metadata": {
    "collapsed": false
   },
   "outputs": [
    {
     "name": "stdout",
     "output_type": "stream",
     "text": [
      "\tMidi file(=./data_for_train/test/waltzes_simple_chords_1.mid) successfully loaded. Total 1/8 beats = 390\n"
     ]
    },
    {
     "data": {
      "image/png": "[encoded data removed]",
      "text/plain": [
       "<matplotlib.figure.Figure at 0x7f3ba2954890>"
      ]
     },
     "metadata": {},
     "output_type": "display_data"
    }
   ],
   "source": [
    "# convert from midi to vector\n",
    "\n",
    "get_longest_length=True\n",
    "samples_cnt = 0         \n",
    "\n",
    "for filename in samples_list:\n",
    "            \n",
    "    # read midi file\n",
    "    mf = music21.midi.MidiFile()\n",
    "    path_midifile = path_train + '/' + filename\n",
    "    mf.open(path_midifile)\n",
    "    mf.read()\n",
    "    mf.close()\n",
    "\n",
    "    # midi -> music21 stream -> midi\n",
    "    s = music21.midi.translate.midiFileToStream(mf)\n",
    "    mf = music21.midi.translate.streamToMidiFile(s)\n",
    "    \n",
    "    result = []\n",
    "    for i in range(len(mf.tracks)):\n",
    "        t = 0\n",
    "        for e in mf.tracks[i].events:\n",
    "            if e.isDeltaTime() and e.time is not None:\n",
    "                t += e.time\n",
    "            elif e.isNoteOn() and e.pitch is not None and e.velocity != 0:\n",
    "                result.append({'time': t, 'note': e.pitch})\n",
    "\n",
    "    ks = KeyStrikes(result)\n",
    "    ks = ks.quantized(mf.ticksPerQuarterNote)\n",
    "\n",
    "    # tick = 1/8\n",
    "    tick_step = mf.ticksPerQuarterNote / 2\n",
    "    total_tick = ks.keystrikes[-1]['time'] + ks.keystrikes[-1]['duration'] * mf.ticksPerQuarterNote\n",
    "    # total sequence\n",
    "    total_beat = total_tick / tick_step\n",
    "    \n",
    "    # from midi to vector initialization\n",
    "    one_X_train = np.zeros((total_beat + 1, data_dim), dtype='int32')\n",
    "\n",
    "    # 1024\n",
    "    for strike in ks.keystrikes:\n",
    "        # 1/8 note\n",
    "        idx = strike['time'] / tick_step\n",
    "        # 1/8 note duration\n",
    "        dur = int(strike['duration'] * 2)\n",
    "\n",
    "        for note in strike['note']:\n",
    "            for i in range(dur):\n",
    "                one_X_train[idx + i, note] = 1\n",
    "\n",
    "    # if data_dim[-1] = 1, EOS\n",
    "    one_X_train[-1, note_dim] = 1\n",
    "\n",
    "    print '\\tMidi file(=%s) successfully loaded. Total 1/8 beats = %d' % (path_midifile, total_beat)\n",
    "    #print one_X_train    \n",
    "    \n",
    "    # plot the bar-length sequences\n",
    "    plt.figure(figsize=(16,4))\n",
    "    plt.imshow(one_X_train, aspect='auto', interpolation='nearest')\n",
    "    plt.xlabel('note number (8th notes)')\n",
    "    plt.ylabel('sequence number')\n",
    "    plt.title('note (or layer 0) segmented by bars')\\\n",
    "\n",
    "\n",
    "    X_train[samples_cnt][seq_length - one_X_train.shape[0] + 1:][:] = np.copy(one_X_train[:-1][:])    \n",
    "    samples_cnt += 1\n",
    "\n",
    "\n",
    "# Y_train setting\n",
    "Y_train[:][:-1][:] = np.copy(X_train[:][1:][:])\n",
    "\n",
    "\n",
    "# for debug\n",
    "#print \"\\n\\tX_train.shape : {0},        Y_train.shape : {1}\".format(X_train.shape, Y_train.shape)\n",
    "#print \"\\tX_train : \", X_train\n",
    "#print \"\\tY_train : \", Y_train\n",
    "#print \"\\tsamples_num : \", samples_num\n",
    "#print \"\\tseq_length : \", seq_length\n",
    "#print \"\\tdata_dim : \", data_dim\n",
    "\n",
    "#return X_train, Y_train, self.samples_num, self.seq_length, self.data_dim"
   ]
  },
  {
   "cell_type": "code",
   "execution_count": null,
   "metadata": {
    "collapsed": true
   },
   "outputs": [],
   "source": []
  },
  {
   "cell_type": "code",
   "execution_count": null,
   "metadata": {
    "collapsed": true
   },
   "outputs": [],
   "source": []
  }
 ],
 "metadata": {
  "kernelspec": {
   "display_name": "Python 2",
   "language": "python",
   "name": "python2"
  },
  "language_info": {
   "codemirror_mode": {
    "name": "ipython",
    "version": 2
   },
   "file_extension": ".py",
   "mimetype": "text/x-python",
   "name": "python",
   "nbconvert_exporter": "python",
   "pygments_lexer": "ipython2",
   "version": "2.7.13"
  }
 },
 "nbformat": 4,
 "nbformat_minor": 2
}
