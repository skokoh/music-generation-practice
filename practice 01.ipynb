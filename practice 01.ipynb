{
 "cells": [
  {
   "cell_type": "markdown",
   "metadata": {},
   "source": [
    "This notebook shows how to use a MIDI file to train and RNN and to seed the RNN for the generative stage."
   ]
  },
  {
   "cell_type": "code",
   "execution_count": 1,
   "metadata": {
    "collapsed": true
   },
   "outputs": [],
   "source": [
    "import numpy as np\n",
    "import matplotlib.pyplot as plt\n",
    "import sys, os, re\n",
    "%matplotlib inline"
   ]
  },
  {
   "cell_type": "code",
   "execution_count": 2,
   "metadata": {
    "collapsed": false
   },
   "outputs": [
    {
     "name": "stderr",
     "output_type": "stream",
     "text": [
      "Using TensorFlow backend.\n"
     ]
    }
   ],
   "source": [
    "# for model\n",
    "from keras.models import *\n",
    "from keras.layers.core import *\n",
    "from keras.layers.recurrent import *\n",
    "\n",
    "# custom\n",
    "from data_init import *\n",
    "from model_util import *\n",
    "\n",
    "#\n",
    "import os.path\n",
    "import random\n",
    "from datetime import datetime"
   ]
  },
  {
   "cell_type": "code",
   "execution_count": 3,
   "metadata": {
    "collapsed": true
   },
   "outputs": [],
   "source": [
    "# ================================================================================\n",
    "#\n",
    "#\n",
    "target_str = \"\"                         #\n",
    "TARGET_FOLDER = \"waltzes\"               # training folder name\n",
    "path_train = \"./train_data/\" + TARGET_FOLDER\n",
    "\n",
    "# init paths of Waltzes\n",
    "DIR_WEIGHTS = \"./wts/\"                      # save weights file\n",
    "DIR_RESULTS = \"./predict/\"                  # save debug log\n",
    "DIR_PREDICTED_MIDI = \"./created/\"          # save predicted(created) midi file\n",
    "\n",
    "# file name to save\n",
    "filename_result_predict = DIR_RESULTS + 'predict_{0}.txt'.format(datetime.now().strftime(\"%Y.%m.%d.%H:%M:%S\"))"
   ]
  },
  {
   "cell_type": "code",
   "execution_count": 4,
   "metadata": {
    "collapsed": true
   },
   "outputs": [],
   "source": [
    "# directory for saving results and weights\n",
    "\n",
    "if not os.path.exists(DIR_WEIGHTS):\n",
    "    print \"\\n...... Make Folder ...... : \", DIR_WEIGHTS\n",
    "    os.mkdir(DIR_WEIGHTS)\n",
    "if not os.path.exists(DIR_RESULTS):\n",
    "    print \"\\n...... Make Folder ...... : \", DIR_RESULTS\n",
    "    os.mkdir(DIR_RESULTS)\n",
    "if not os.path.exists(DIR_PREDICTED_MIDI):\n",
    "    print \"\\n...... Make Folder ......\", DIR_PREDICTED_MIDI\n",
    "    os.mkdir(DIR_PREDICTED_MIDI)"
   ]
  },
  {
   "cell_type": "code",
   "execution_count": 5,
   "metadata": {
    "collapsed": false
   },
   "outputs": [
    {
     "name": "stdout",
     "output_type": "stream",
     "text": [
      "\n",
      "...... Get X, Y, samples_length, seq_length, hidden_size ...... : \n",
      "\n",
      "\tfrom ./train_data/waltzes,\n",
      "\ttarget_string : \n",
      "\n",
      "\n",
      "...... get samples list ......\n",
      "\n",
      "\tReturn 5 file name list.\n",
      "\n",
      "...... get info : longest sequence length ......\n",
      "\n",
      "\tLongest File name : waltzes_simple_chords_1.mid, sequence length : 391\n",
      "\n",
      "\n",
      "\tdebug --------> self.seq_length : 391\n",
      "\n",
      "\n",
      "\tMidi file(=./train_data/waltzes/waltzes_simple_chords_1.mid) successfully loaded. Total 1/8 beats = 390\n",
      "\tMidi file(=./train_data/waltzes/waltzes_simple_chords_2.mid) successfully loaded. Total 1/8 beats = 198\n",
      "\tMidi file(=./train_data/waltzes/waltzes_simple_chords_3.mid) successfully loaded. Total 1/8 beats = 198\n",
      "\tMidi file(=./train_data/waltzes/waltzes_simple_chords_6.mid) successfully loaded. Total 1/8 beats = 294\n",
      "\tMidi file(=./train_data/waltzes/waltzes_simple_chords_7.mid) successfully loaded. Total 1/8 beats = 390\n"
     ]
    }
   ],
   "source": [
    "##\n",
    "#\n",
    "# data set configuration\n",
    "#\n",
    "\n",
    "# example : target_str = \"reels\"\n",
    "\n",
    "print \"\\n...... Get X, Y, samples_length, seq_length, hidden_size ...... : \\n\"\n",
    "print \"\\tfrom {0},\".format(path_train)\n",
    "print \"\\ttarget_string : {0}\\n\".format(target_str)\n",
    "\n",
    "MidiUtil = Midi_Util()                             \n",
    "# X, Y, samples_length, seq_length, hidden_size = MidiUtil.get_data_set_from_midi(path_train)\n",
    "X, Y, samples_length, seq_length, hidden_size = MidiUtil.get_data_set_from_midi(path_train, target_str)"
   ]
  },
  {
   "cell_type": "code",
   "execution_count": 6,
   "metadata": {
    "collapsed": false
   },
   "outputs": [
    {
     "name": "stdout",
     "output_type": "stream",
     "text": [
      "\n",
      "...... Start Making Model ......\n"
     ]
    },
    {
     "name": "stderr",
     "output_type": "stream",
     "text": [
      "/home/eko/anaconda2/lib/python2.7/site-packages/ipykernel/__main__.py:10: UserWarning: The `input_dim` and `input_length` arguments in recurrent layers are deprecated. Use `input_shape` instead.\n",
      "/home/eko/anaconda2/lib/python2.7/site-packages/ipykernel/__main__.py:10: UserWarning: Update your `LSTM` call to the Keras 2 API: `LSTM(129, return_sequences=True, activation=\"tanh\", input_shape=(391, 129))`\n",
      "/home/eko/anaconda2/lib/python2.7/site-packages/ipykernel/__main__.py:12: UserWarning: The `input_dim` and `input_length` arguments in recurrent layers are deprecated. Use `input_shape` instead.\n",
      "/home/eko/anaconda2/lib/python2.7/site-packages/ipykernel/__main__.py:12: UserWarning: Update your `LSTM` call to the Keras 2 API: `LSTM(129, return_sequences=True, activation=\"tanh\", input_shape=(391, 129))`\n"
     ]
    }
   ],
   "source": [
    "# model build: Sequential Model()\n",
    "#\n",
    "print \"\\n...... Start Making Model ......\"\n",
    "\n",
    "#\n",
    "# model 1 : LSTM\n",
    "#\n",
    "model = Sequential()\n",
    "\n",
    "model.add(LSTM(hidden_size, input_dim=hidden_size, input_length=seq_length, activation='tanh', return_sequences=True))\n",
    "model.add(Dropout(0.1))\n",
    "model.add(LSTM(hidden_size, input_dim=hidden_size, input_length=seq_length, activation='tanh', return_sequences=True))\n",
    "model.add(Dropout(0.1))\n",
    "model.add(Dense(X.shape[2]))                        # hidden size\n",
    "model.add(Activation('softmax'))                    # softmax layer\n"
   ]
  },
  {
   "cell_type": "code",
   "execution_count": 7,
   "metadata": {
    "collapsed": false
   },
   "outputs": [
    {
     "name": "stdout",
     "output_type": "stream",
     "text": [
      "Checking model ...\n",
      "\tlayer shapes\n",
      "\t\t[00] LSTM                           (, 391, 129)                   (, 391, 129)                  \n",
      "\t\t[01] Dropout                        (, 391, 129)                   (, 391, 129)                  \n",
      "\t\t[02] LSTM                           (, 391, 129)                   (, 391, 129)                  \n",
      "\t\t[03] Dropout                        (, 391, 129)                   (, 391, 129)                  \n",
      "\t\t[04] Dense                          (, 391, 129)                   (, 391, 129)                  \n",
      "\t\t[05] Activation                     (, 391, 129)                   (, 391, 129)                  \n",
      "\tlayer parameters\n",
      "\t\t[00] LSTM                           : 133644\n",
      "\t\t[01] Dropout                        : 0\n",
      "\t\t[02] LSTM                           : 133644\n",
      "\t\t[03] Dropout                        : 0\n",
      "\t\t[04] Dense                          : 16770\n",
      "\t\t[05] Activation                     : 0\n",
      "\t\t------------------------------------------------------------\n",
      "\t\ttotal                               : 284058\n"
     ]
    }
   ],
   "source": [
    "# show model\n",
    "ModelUtil.layer_info(model)"
   ]
  },
  {
   "cell_type": "code",
   "execution_count": 8,
   "metadata": {
    "collapsed": false
   },
   "outputs": [
    {
     "name": "stdout",
     "output_type": "stream",
     "text": [
      "\n",
      "...... Loaded weights file : train_piano_wts_seq_model_2017.05.31.20:00:58.wts ......\n"
     ]
    }
   ],
   "source": [
    "\n",
    "# weigts value loading\n",
    "# automatic setting for loading wts weight values\n",
    "try:\n",
    "    wts_list = os.listdir(DIR_WEIGHTS)\n",
    "    if len(wts_list) != 0:\n",
    "        wts_list.sort()\n",
    "        model.load_weights(DIR_WEIGHTS + wts_list[-1])\n",
    "        print \"\\n...... Loaded weights file : {0} ......\".format(wts_list[-1])\n",
    "except:\n",
    "    pass"
   ]
  },
  {
   "cell_type": "code",
   "execution_count": 9,
   "metadata": {
    "collapsed": false
   },
   "outputs": [
    {
     "name": "stdout",
     "output_type": "stream",
     "text": [
      "\n",
      "...... Start Compiling Model ......\n"
     ]
    }
   ],
   "source": [
    "##\n",
    "# set optimizer && loss function\n",
    "# priority of using optimizer : adam > adadelta > adagrad\n",
    "print \"\\n...... Start Compiling Model ......\"\n",
    "model.compile(loss='categorical_crossentropy', optimizer='adam')\n",
    "# model.compile(loss='categorical_crossentropy', optimizer='adadelta')\n",
    "# model.compile(loss='categorical_crossentropy', optimizer='adagrad')"
   ]
  },
  {
   "cell_type": "code",
   "execution_count": 10,
   "metadata": {
    "collapsed": true
   },
   "outputs": [],
   "source": [
    "# sample function for prediction.\n",
    "#\n",
    "def sample(prob, temperature=1.0):\n",
    "    # helper function to sample an index from a probability array\n",
    "    prob = np.log(prob) / temperature\n",
    "    prob = np.exp(prob) / np.sum(np.exp(prob))\n",
    "    return np.argmax(np.random.multinomial(1, prob, 1))\n",
    "\n",
    "##\n",
    "def sample2(prob, temperature=1.0):\n",
    "    prob = np.log(prob) / temperature\n",
    "    prob = np.exp(prob) / np.sum(np.exp(prob))\n",
    "    # return np.random.multinomial(random.randint(0,5), prob, 1)\n",
    "    return np.random.multinomial(random.randint(1,5), prob, 1)\n",
    "\n",
    "##\n",
    "def choose_note_index(prob, temperature=1.0, max_chords=4):\n",
    "    # helper function to sample notes from a probability array\n",
    "    # for now, I make max limitation of chord of 4\n",
    "    prob = np.log(prob) / temperature\n",
    "    prob = np.exp(prob) / np.sum(np.exp(prob))\n",
    "    notes = np.random.choice(prob.shape[0], max_chords, p=prob)\n",
    "    return np.unique(notes)\n",
    "\n",
    "\n",
    "def sample_song(seed, midi_file_path):\n",
    "    print 'Sampling song ...'\n",
    "\n",
    "    # zero one-of-K matrix\n",
    "    X_predict = np.zeros((1, seq_length, hidden_size))\n",
    "    X_predict[0, 0, :] = seed  # save seed\n",
    "\n",
    "    for i in range(seq_length):\n",
    "        # prediction\n",
    "        phat = model.predict(X_predict)\n",
    "        # note choose\n",
    "        ix = choose_note_index(phat[0, i])\n",
    "        # if, end of sequence\n",
    "        if np.any(ix == 128):\n",
    "            break\n",
    "        # saving\n",
    "        if i < seq_length - 1:\n",
    "            X_predict[0, i + 1, ix] = 1\n",
    "\n",
    "    # split before EOS\n",
    "    total_beats = (X_predict.sum(axis=-1) > 0).sum()\n",
    "    X_result = X_predict[0, :total_beats]\n",
    "\n",
    "    # midi file saving\n",
    "    MidiUtil.save_midi(midi_file_path, X_result)"
   ]
  },
  {
   "cell_type": "code",
   "execution_count": 11,
   "metadata": {
    "collapsed": true
   },
   "outputs": [],
   "source": [
    "\n",
    "#\n",
    "# batch size and epoch value configuration\n",
    "#\n",
    "# ================================================================================\n",
    "training_times = 10\n",
    "batch_size_num = seq_length\n",
    "epoch_num = 1\n",
    "# ================================================================================"
   ]
  },
  {
   "cell_type": "code",
   "execution_count": 12,
   "metadata": {
    "collapsed": false
   },
   "outputs": [
    {
     "name": "stdout",
     "output_type": "stream",
     "text": [
      "\n",
      "...... Start Training && Predicting with diversity = 1.0 ......\n",
      "\n",
      "\n",
      "----------------------------------------------------------------------------------------------------\n",
      "Iteration : 1 : is started\n",
      "\n"
     ]
    },
    {
     "name": "stderr",
     "output_type": "stream",
     "text": [
      "/home/eko/anaconda2/lib/python2.7/site-packages/keras/models.py:837: UserWarning: The `nb_epoch` argument in `fit` has been renamed `epochs`.\n",
      "  warnings.warn('The `nb_epoch` argument in `fit` '\n"
     ]
    },
    {
     "name": "stdout",
     "output_type": "stream",
     "text": [
      "Epoch 1/1\n",
      "5/5 [==============================] - 0s - loss: 6.2786\n",
      "\n",
      "\t1 Epochs time : 0:00:02.084358\n",
      "\n",
      "\tSaved Weights File : ./wts/train_piano_wts_seq_model_2017.05.31.20:31:34.wts\n",
      "\n",
      "\t1th Iteration time : 0:00:02.113041\n",
      "\n",
      "\tPassed time from starting Training Process : 0:00:02.114631\n",
      "\n",
      "\n",
      "----------------------------------------------------------------------------------------------------\n",
      "Iteration : 2 : is started\n",
      "\n",
      "Epoch 1/1\n",
      "5/5 [==============================] - 0s - loss: 6.0265\n",
      "\n",
      "\t1 Epochs time : 0:00:00.478280\n",
      "\n",
      "\tSaved Weights File : ./wts/train_piano_wts_seq_model_2017.05.31.20:31:35.wts\n",
      "\n",
      "\t2th Iteration time : 0:00:00.485136\n",
      "\n",
      "\tPassed time from starting Training Process : 0:00:02.599918\n",
      "\n",
      "\n",
      "----------------------------------------------------------------------------------------------------\n",
      "Iteration : 3 : is started\n",
      "\n",
      "Epoch 1/1\n",
      "5/5 [==============================] - 0s - loss: 5.6702\n",
      "\n",
      "\t1 Epochs time : 0:00:00.476591\n",
      "[WARNING] ./wts/train_piano_wts_seq_model_2017.05.31.20:31:35.wts already exists - overwrite? [y/n]y\n",
      "[TIP] Next time specify overwrite=True!\n",
      "\n",
      "\tSaved Weights File : ./wts/train_piano_wts_seq_model_2017.05.31.20:31:35.wts\n",
      "\n",
      "\t3th Iteration time : 0:00:10.882944\n",
      "\n",
      "\tPassed time from starting Training Process : 0:00:13.483078\n",
      "\n",
      "\n",
      "----------------------------------------------------------------------------------------------------\n",
      "Iteration : 4 : is started\n",
      "\n",
      "Epoch 1/1\n",
      "5/5 [==============================] - 0s - loss: 5.3048\n",
      "\n",
      "\t1 Epochs time : 0:00:00.521961\n",
      "\n",
      "\tSaved Weights File : ./wts/train_piano_wts_seq_model_2017.05.31.20:31:46.wts\n",
      "\n",
      "\t4th Iteration time : 0:00:00.529064\n",
      "\n",
      "\tPassed time from starting Training Process : 0:00:14.012339\n",
      "\n",
      "\n",
      "----------------------------------------------------------------------------------------------------\n",
      "Iteration : 5 : is started\n",
      "\n",
      "Epoch 1/1\n",
      "5/5 [==============================] - 0s - loss: 5.0082\n",
      "\n",
      "\t1 Epochs time : 0:00:00.482108\n",
      "\n",
      "\tSaved Weights File : ./wts/train_piano_wts_seq_model_2017.05.31.20:31:47.wts\n",
      "\n",
      "\t5th Iteration time : 0:00:00.488971\n",
      "\n",
      "\tPassed time from starting Training Process : 0:00:14.501408\n",
      "\n",
      "\n",
      "----------------------------------------------------------------------------------------------------\n",
      "Iteration : 6 : is started\n",
      "\n",
      "Epoch 1/1\n",
      "5/5 [==============================] - 0s - loss: 4.8368\n",
      "\n",
      "\t1 Epochs time : 0:00:00.472735\n",
      "[WARNING] ./wts/train_piano_wts_seq_model_2017.05.31.20:31:47.wts already exists - overwrite? [y/n]y\n",
      "[TIP] Next time specify overwrite=True!\n",
      "\n",
      "\tSaved Weights File : ./wts/train_piano_wts_seq_model_2017.05.31.20:31:47.wts\n",
      "\n",
      "\t6th Iteration time : 0:00:04.493383\n",
      "\n",
      "\tPassed time from starting Training Process : 0:00:18.995028\n",
      "\n",
      "\n",
      "----------------------------------------------------------------------------------------------------\n",
      "Iteration : 7 : is started\n",
      "\n",
      "Epoch 1/1\n",
      "5/5 [==============================] - 0s - loss: 4.6983\n",
      "\n",
      "\t1 Epochs time : 0:00:00.522138\n",
      "\n",
      "\tSaved Weights File : ./wts/train_piano_wts_seq_model_2017.05.31.20:31:52.wts\n",
      "\n",
      "\t7th Iteration time : 0:00:00.529098\n",
      "\n",
      "\tPassed time from starting Training Process : 0:00:19.524370\n",
      "\n",
      "\n",
      "----------------------------------------------------------------------------------------------------\n",
      "Iteration : 8 : is started\n",
      "\n",
      "Epoch 1/1\n",
      "5/5 [==============================] - 0s - loss: 4.6093\n",
      "\n",
      "\t1 Epochs time : 0:00:00.475411\n",
      "[WARNING] ./wts/train_piano_wts_seq_model_2017.05.31.20:31:52.wts already exists - overwrite? [y/n]y\n",
      "[TIP] Next time specify overwrite=True!\n",
      "\n",
      "\tSaved Weights File : ./wts/train_piano_wts_seq_model_2017.05.31.20:31:52.wts\n",
      "\n",
      "\t8th Iteration time : 0:00:03.679265\n",
      "\n",
      "\tPassed time from starting Training Process : 0:00:23.204070\n",
      "\n",
      "\n",
      "----------------------------------------------------------------------------------------------------\n",
      "Iteration : 9 : is started\n",
      "\n",
      "Epoch 1/1\n",
      "5/5 [==============================] - 0s - loss: 4.5039\n",
      "\n",
      "\t1 Epochs time : 0:00:00.526831\n",
      "\n",
      "\tSaved Weights File : ./wts/train_piano_wts_seq_model_2017.05.31.20:31:56.wts\n",
      "\n",
      "\t9th Iteration time : 0:00:00.533689\n",
      "\n",
      "\tPassed time from starting Training Process : 0:00:23.737959\n",
      "\n",
      "\n",
      "----------------------------------------------------------------------------------------------------\n",
      "Iteration : 10 : is started\n",
      "\n",
      "Epoch 1/1\n",
      "5/5 [==============================] - 0s - loss: 4.4396\n",
      "\n",
      "\t1 Epochs time : 0:00:00.474899\n",
      "\n",
      "\tSaved Weights File : ./wts/train_piano_wts_seq_model_2017.05.31.20:31:57.wts\n",
      "Sampling song ...\n",
      "\tMidi file(=./created/rnn_lstm_pred_midi_2017.05.31.20:31:57.mid) successfully saved. Total 1/8 beats = 390\n",
      "\n",
      "\tPredict time : 0:00:31.217732\n",
      "\n",
      "\t10th Iteration time : 0:00:31.699602\n",
      "\n",
      "\tPassed time from starting Training Process : 0:00:55.437643\n"
     ]
    }
   ],
   "source": [
    "\n",
    "time_start_total = datetime.now()\n",
    "##\n",
    "print \"\\n...... Start Training && Predicting with diversity = 1.0 ......\"\n",
    "with open(filename_result_predict, 'a') as file :\n",
    "    # for iteration in range(1, 100):\n",
    "    for iteration in range(1, training_times + 1):\n",
    "        time_start_iteration = datetime.now()\n",
    "\n",
    "        print '\\n'\n",
    "        print '-' * 100\n",
    "        print \"Iteration : {0} : is started\\n\".format(iteration)\n",
    "\n",
    "        time_start_epochs = datetime.now()\n",
    "\n",
    "        #\n",
    "        # training start\n",
    "        #\n",
    "\n",
    "        # model.fit(X, Y, batch_size=batch_size_num, nb_epoch=epoch_num, show_accuracy=True, shuffle=False)\n",
    "        model.fit(X, Y, nb_epoch=epoch_num, shuffle=False)\n",
    "\n",
    "        time_end_epochs = datetime.now()\n",
    "        print \"\\n\\t{0} Epochs time : {1}\".format(epoch_num, time_end_epochs - time_start_epochs)\n",
    "\n",
    "        # save wts\n",
    "        filename_wts = DIR_WEIGHTS + \"train_piano_wts_seq_model_{0}.wts\".format(datetime.now().strftime(\"%Y.%m.%d.%H:%M:%S\"))\n",
    "        model.save_weights(filename_wts, overwrite=False)\n",
    "        print \"\\n\\tSaved Weights File : {0}\".format(filename_wts)\n",
    "\n",
    "        #\n",
    "        # prediction start\n",
    "        #\n",
    "\n",
    "        time_start_predict = datetime.now()\n",
    "        # every 10 iteration\n",
    "        if iteration % 10 == 0:\n",
    "            # # for diversity in [0.2, 0.5, 1.0, 1.2]:\n",
    "\n",
    "            # get first note from training data set\n",
    "            row = np.random.randint(0, samples_length, 1)\n",
    "            seed = X[row, X[0].sum(axis=-1) > 0, :][0, :]\n",
    "\n",
    "            # predicted midi file\n",
    "            FILE_PRED_MIDI = DIR_PREDICTED_MIDI + \"rnn_lstm_pred_midi_{0}.mid\".format(datetime.now().strftime(\"%Y.%m.%d.%H:%M:%S\"))\n",
    "            sample_song(seed, FILE_PRED_MIDI)\n",
    "\n",
    "            # debug용\n",
    "            time_end_predict = datetime.now()\n",
    "            print \"\\n\\tPredict time : {0}\".format(time_end_predict - time_start_predict)\n",
    "\n",
    "        #\n",
    "        # predict finished\n",
    "        #\n",
    "\n",
    "        time_end_iteration = datetime.now()\n",
    "        print \"\\n\\t{0}th Iteration time : {1}\".format(iteration, time_end_iteration - time_start_iteration)\n",
    "\n",
    "        time_passed_total = datetime.now() - time_start_total\n",
    "        print \"\\n\\tPassed time from starting Training Process : {0}\".format(time_passed_total)\n",
    "\n",
    "        # log 저장\n",
    "        # save_str =\"\"\n",
    "        # file.write(save_str)\n",
    "##\n"
   ]
  },
  {
   "cell_type": "code",
   "execution_count": null,
   "metadata": {
    "collapsed": true
   },
   "outputs": [],
   "source": []
  }
 ],
 "metadata": {
  "kernelspec": {
   "display_name": "Python 2",
   "language": "python",
   "name": "python2"
  },
  "language_info": {
   "codemirror_mode": {
    "name": "ipython",
    "version": 2
   },
   "file_extension": ".py",
   "mimetype": "text/x-python",
   "name": "python",
   "nbconvert_exporter": "python",
   "pygments_lexer": "ipython2",
   "version": "2.7.13"
  }
 },
 "nbformat": 4,
 "nbformat_minor": 2
}
